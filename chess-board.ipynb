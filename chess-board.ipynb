{
 "cells": [
  {
   "cell_type": "markdown",
   "metadata": {},
   "source": [
    "# Chess Board Class\n",
    "\n"
   ]
  },
  {
   "cell_type": "code",
   "execution_count": 7,
   "metadata": {},
   "outputs": [],
   "source": [
    "import numpy as np\n",
    "%matplotlib inline\n",
    "import matplotlib.pyplot as plt"
   ]
  },
  {
   "cell_type": "code",
   "execution_count": 30,
   "metadata": {},
   "outputs": [
    {
     "data": {
      "image/png": "[encoded data removed]",
      "text/plain": [
       "<Figure size 432x288 with 1 Axes>"
      ]
     },
     "metadata": {
      "needs_background": "light"
     },
     "output_type": "display_data"
    }
   ],
   "source": [
    "class ChessBoard:    \n",
    "    def __init__(self):\n",
    "        self.attacking_queens = []\n",
    "        self.board = np.ones([8,8,3])\n",
    "       \n",
    "        for i in np.ndindex(8,8):\n",
    "            row = i[0]\n",
    "            col = i[1]\n",
    "            # if row%2==0 and col%2==1 or row%2==1 and col%2==0:\n",
    "            if row%2 != col%2:\n",
    "                self.board[row, col] = [0,0,0]\n",
    "            #print(i, self.board[i])\n",
    "    \n",
    "    def add_red(self,row,col):\n",
    "        self.board[row,col]=(1,.3,0)\n",
    "        self.red =[row,col]\n",
    "    \n",
    "    def add_blue(self,row,col):\n",
    "        self.board[row,col]=(0,1,1) \n",
    "        self.blue =[row,col]\n",
    "        self.attacking_queens.append(self.blue)\n",
    "\n",
    "    \n",
    "    def render(self):\n",
    "        plt.imshow(self.board)\n",
    "    \n",
    "    def is_under_attack(self,queen):\n",
    "      \n",
    "        if self.red[0] == queen[0] or self.red[1] == queen[1]:\n",
    "            return True\n",
    "        elif abs(self.red[0]-queen[0]) == abs(self.red[1]-queen[1]):\n",
    "            return True\n",
    "        else :\n",
    "            return False\n",
    "\n",
    "if __name__==\"__main__\":\n",
    "    chess_board =ChessBoard()\n",
    "    chess_board.add_red(5,4)\n",
    "    chess_board.add_blue(4,3)\n",
    "    chess_board.render()"
   ]
  },
  {
   "cell_type": "code",
   "execution_count": null,
   "metadata": {},
   "outputs": [],
   "source": []
  },
  {
   "cell_type": "markdown",
   "metadata": {},
   "source": [
    "# Chess Board Testing"
   ]
  },
  {
   "cell_type": "markdown",
   "metadata": {},
   "source": [
    "## User Acceptance Tests\n"
   ]
  },
  {
   "cell_type": "markdown",
   "metadata": {},
   "source": [
    "### queens on same row should be “under attack”"
   ]
  },
  {
   "cell_type": "code",
   "execution_count": 51,
   "metadata": {},
   "outputs": [
    {
     "data": {
      "image/png": "[encoded data removed]",
      "text/plain": [
       "<Figure size 432x288 with 1 Axes>"
      ]
     },
     "metadata": {
      "needs_background": "light"
     },
     "output_type": "display_data"
    }
   ],
   "source": [
    "def test_queen_on_same_row_blue():\n",
    "    expected = True\n",
    "    board =ChessBoard()\n",
    "    board.add_blue(0,3)\n",
    "    board.add_red(3,0)\n",
    "    actual = board.is_under_attack(board.blue)\n",
    "    board.render()\n",
    "    assert actual == expected\n",
    "\n",
    "test_queen_on_same_row_blue()    "
   ]
  },
  {
   "cell_type": "code",
   "execution_count": null,
   "metadata": {},
   "outputs": [],
   "source": [
    "\n"
   ]
  },
  {
   "cell_type": "markdown",
   "metadata": {},
   "source": [
    "### queens on same column should be “under attack”\n"
   ]
  },
  {
   "cell_type": "code",
   "execution_count": 52,
   "metadata": {},
   "outputs": [
    {
     "data": {
      "image/png": "[encoded data removed]",
      "text/plain": [
       "<Figure size 432x288 with 1 Axes>"
      ]
     },
     "metadata": {
      "needs_background": "light"
     },
     "output_type": "display_data"
    }
   ],
   "source": [
    "def test_queen_on_same_col_blue():\n",
    "    expected = True\n",
    "    board = ChessBoard()\n",
    "    board.add_blue(3,0)\n",
    "    board.add_red(3,6)\n",
    "    actual = board.is_under_attack(board.blue)\n",
    "    board.render()\n",
    "    assert actual == expected\n",
    "    \n",
    "test_queen_on_same_col_blue()"
   ]
  },
  {
   "cell_type": "markdown",
   "metadata": {},
   "source": [
    "### queens on same diagonal should be “under attack”"
   ]
  },
  {
   "cell_type": "code",
   "execution_count": 53,
   "metadata": {},
   "outputs": [
    {
     "data": {
      "image/png": "[encoded data removed]",
      "text/plain": [
       "<Figure size 432x288 with 1 Axes>"
      ]
     },
     "metadata": {
      "needs_background": "light"
     },
     "output_type": "display_data"
    }
   ],
   "source": [
    "def test_queen_on_same_diagonal_blue():\n",
    "    expected = True\n",
    "    board = ChessBoard()\n",
    "    board.add_red(3,3)\n",
    "    board.add_blue(7,3)\n",
    "    actual = board.is_under_attack(board.blue)\n",
    "    board.render()\n",
    "    assert actual == expected\n",
    "    \n",
    "test_queen_on_same_diagonal_blue()"
   ]
  },
  {
   "cell_type": "markdown",
   "metadata": {},
   "source": [
    "### queens with any other coordinates should NOT be “under attack”"
   ]
  },
  {
   "cell_type": "code",
   "execution_count": 54,
   "metadata": {},
   "outputs": [
    {
     "data": {
      "image/png": "[encoded data removed]",
      "text/plain": [
       "<Figure size 432x288 with 1 Axes>"
      ]
     },
     "metadata": {
      "needs_background": "light"
     },
     "output_type": "display_data"
    }
   ],
   "source": [
    "def test_queen_not_under_attack_blue():\n",
    "    expected = False\n",
    "    board = ChessBoard()\n",
    "    board.add_red(1,5)\n",
    "    board.add_blue(3,1)\n",
    "    actual = board.is_under_attack(board.blue)\n",
    "    board.render()\n",
    "    assert actual == expected\n",
    "    \n",
    "test_queen_not_under_attack_blue()"
   ]
  },
  {
   "cell_type": "code",
   "execution_count": 55,
   "metadata": {},
   "outputs": [
    {
     "data": {
      "image/png": "[encoded data removed]",
      "text/plain": [
       "<Figure size 432x288 with 1 Axes>"
      ]
     },
     "metadata": {
      "needs_background": "light"
     },
     "output_type": "display_data"
    }
   ],
   "source": [
    "def test_queen_on_same_diagonal_2_blue():\n",
    "    expected = True\n",
    "    board = ChessBoard()\n",
    "    board.add_red(1,5)\n",
    "    board.add_blue(4,2)\n",
    "    actual = board.is_under_attack(board.blue)\n",
    "    board.render()\n",
    "    assert actual == expected\n",
    "    \n",
    "test_queen_on_same_diagonal_2_blue()"
   ]
  },
  {
   "cell_type": "code",
   "execution_count": 56,
   "metadata": {},
   "outputs": [
    {
     "data": {
      "image/png": "[encoded data removed]",
      "text/plain": [
       "<Figure size 432x288 with 1 Axes>"
      ]
     },
     "metadata": {
      "needs_background": "light"
     },
     "output_type": "display_data"
    }
   ],
   "source": [
    "def test_queen_on_same_diagonal_3_blue():\n",
    "    expected = True\n",
    "    board = ChessBoard()\n",
    "    board.add_red(2,0)\n",
    "    board.add_blue(5,3)\n",
    "    actual = board.is_under_attack(board.blue)\n",
    "    board.render()\n",
    "    assert actual == expected\n",
    "    \n",
    "test_queen_on_same_diagonal_3_blue()"
   ]
  },
  {
   "cell_type": "code",
   "execution_count": null,
   "metadata": {},
   "outputs": [],
   "source": []
  }
 ],
 "metadata": {
  "interpreter": {
   "hash": "8ebed618ee4ba423ff611c7de5e8a8d6ed397749444b20eb449648c7c5af2b6b"
  },
  "kernelspec": {
   "display_name": "Python 3 (ipykernel)",
   "language": "python",
   "name": "python3"
  },
  "language_info": {
   "codemirror_mode": {
    "name": "ipython",
    "version": 3
   },
   "file_extension": ".py",
   "mimetype": "text/x-python",
   "name": "python",
   "nbconvert_exporter": "python",
   "pygments_lexer": "ipython3",
   "version": "3.8.10"
  }
 },
 "nbformat": 4,
 "nbformat_minor": 4
}
